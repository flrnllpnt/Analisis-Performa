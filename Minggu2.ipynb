{
  "nbformat": 4,
  "nbformat_minor": 0,
  "metadata": {
    "colab": {
      "name": "Minggu2.ipynb",
      "provenance": [],
      "collapsed_sections": []
    },
    "kernelspec": {
      "name": "python3",
      "display_name": "Python 3"
    }
  },
  "cells": [
    {
      "cell_type": "code",
      "metadata": {
        "id": "VXu5L0BdwGzI",
        "colab_type": "code",
        "colab": {
          "base_uri": "https://localhost:8080/",
          "height": 34
        },
        "outputId": "f2cc06d9-0295-4c59-997c-b43b885d6936"
      },
      "source": [
        "import numpy as np\n",
        "\n",
        "print(np.__version__)"
      ],
      "execution_count": 4,
      "outputs": [
        {
          "output_type": "stream",
          "text": [
            "1.18.5\n"
          ],
          "name": "stdout"
        }
      ]
    },
    {
      "cell_type": "code",
      "metadata": {
        "id": "fUVMFylcyAQB",
        "colab_type": "code",
        "colab": {
          "base_uri": "https://localhost:8080/",
          "height": 34
        },
        "outputId": "7a7bce7d-afa6-4db9-bf93-7e45f05be9d3"
      },
      "source": [
        "def getFirst(myList):\n",
        "  return myList[0]\n",
        "\n",
        "getFirst([1,2,3])"
      ],
      "execution_count": 5,
      "outputs": [
        {
          "output_type": "execute_result",
          "data": {
            "text/plain": [
              "1"
            ]
          },
          "metadata": {
            "tags": []
          },
          "execution_count": 5
        }
      ]
    },
    {
      "cell_type": "code",
      "metadata": {
        "id": "rpQp_8IK1Xap",
        "colab_type": "code",
        "colab": {}
      },
      "source": [
        "def getSum(myList):\n",
        "    sum = 0\n",
        "    for item in myList:\n",
        "        sum = sum+item\n",
        "    return  sum"
      ],
      "execution_count": 22,
      "outputs": []
    },
    {
      "cell_type": "code",
      "metadata": {
        "id": "31DwpCga192l",
        "colab_type": "code",
        "colab": {
          "base_uri": "https://localhost:8080/",
          "height": 34
        },
        "outputId": "437eb393-4601-4281-fae9-ac519b88cab4"
      },
      "source": [
        "getSum([1,2,3,4])"
      ],
      "execution_count": 23,
      "outputs": [
        {
          "output_type": "execute_result",
          "data": {
            "text/plain": [
              "10"
            ]
          },
          "metadata": {
            "tags": []
          },
          "execution_count": 23
        }
      ]
    },
    {
      "cell_type": "code",
      "metadata": {
        "id": "cNNHcUGezqNX",
        "colab_type": "code",
        "colab": {}
      },
      "source": [
        "def getSum(myList):\n",
        "  sum = 0\n",
        "  for row in myList:\n",
        "    for item in row:\n",
        "        sum += item\n",
        "  return sum"
      ],
      "execution_count": 19,
      "outputs": []
    },
    {
      "cell_type": "code",
      "metadata": {
        "id": "NrGZJEVg0umd",
        "colab_type": "code",
        "colab": {
          "base_uri": "https://localhost:8080/",
          "height": 34
        },
        "outputId": "c946f562-1937-4dbb-8d82-33f34ecf05ae"
      },
      "source": [
        "getSum([[1,2,5],[3,4,7]])"
      ],
      "execution_count": 20,
      "outputs": [
        {
          "output_type": "execute_result",
          "data": {
            "text/plain": [
              "22"
            ]
          },
          "metadata": {
            "tags": []
          },
          "execution_count": 20
        }
      ]
    },
    {
      "cell_type": "code",
      "metadata": {
        "id": "oMZXJdRo2cEj",
        "colab_type": "code",
        "colab": {}
      },
      "source": [
        "def searchBinary(myList,item):\n",
        "    first = 0\n",
        "    last = len(myList)-1\n",
        "    foundFlag = False\n",
        "    while(first<=last and not foundFlag):\n",
        "        mid = (first + last)//2\n",
        "        if myList[mid] == item :\n",
        "            foundFlag = True\n",
        "        else:\n",
        "            if item < myList[mid]:\n",
        "                last = mid - 1\n",
        "            else:\n",
        "                first = mid + 1\n",
        "    return foundFlag"
      ],
      "execution_count": 28,
      "outputs": []
    },
    {
      "cell_type": "code",
      "metadata": {
        "id": "qEPYkAOW32Nc",
        "colab_type": "code",
        "colab": {
          "base_uri": "https://localhost:8080/",
          "height": 34
        },
        "outputId": "1593f2d5-348b-4a82-ee19-7ed3d01206fe"
      },
      "source": [
        "searchBinary([8,9,10,100,1000,2000,3000], 10)"
      ],
      "execution_count": 29,
      "outputs": [
        {
          "output_type": "execute_result",
          "data": {
            "text/plain": [
              "True"
            ]
          },
          "metadata": {
            "tags": []
          },
          "execution_count": 29
        }
      ]
    },
    {
      "cell_type": "code",
      "metadata": {
        "id": "PQYXSR0I7shU",
        "colab_type": "code",
        "colab": {
          "base_uri": "https://localhost:8080/",
          "height": 34
        },
        "outputId": "3c3d5226-568e-42c8-c89f-447bc1fec24b"
      },
      "source": [
        "searchBinary([8,9,10,100,1000,2000,3000], 5)"
      ],
      "execution_count": 30,
      "outputs": [
        {
          "output_type": "execute_result",
          "data": {
            "text/plain": [
              "False"
            ]
          },
          "metadata": {
            "tags": []
          },
          "execution_count": 30
        }
      ]
    }
  ]
}